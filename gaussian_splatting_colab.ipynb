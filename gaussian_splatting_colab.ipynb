{
  "cells": [
    {
      "cell_type": "markdown",
      "metadata": {
        "id": "view-in-github",
        "colab_type": "text"
      },
      "source": [
        "<a href=\"https://colab.research.google.com/github/ababyyds/3dgs/blob/main/gaussian_splatting_colab.ipynb\" target=\"_parent\"><img src=\"https://colab.research.google.com/assets/colab-badge.svg\" alt=\"Open In Colab\"/></a>"
      ]
    },
    {
      "cell_type": "code",
      "execution_count": 3,
      "metadata": {
        "id": "VjYy0F2gZIPR",
        "outputId": "af0e66f5-7127-45da-9896-3fab324e5744",
        "colab": {
          "base_uri": "https://localhost:8080/"
        }
      },
      "outputs": [
        {
          "output_type": "stream",
          "name": "stdout",
          "text": [
            "/content\n",
            "Cloning into 'gaussian-splatting'...\n",
            "remote: Enumerating objects: 603, done.\u001b[K\n",
            "remote: Total 603 (delta 0), reused 0 (delta 0), pack-reused 603 (from 1)\u001b[K\n",
            "Receiving objects: 100% (603/603), 2.09 MiB | 4.53 MiB/s, done.\n",
            "Resolving deltas: 100% (347/347), done.\n",
            "Submodule 'SIBR_viewers' (https://gitlab.inria.fr/sibr/sibr_core) registered for path 'SIBR_viewers'\n",
            "Submodule 'submodules/diff-gaussian-rasterization' (https://github.com/graphdeco-inria/diff-gaussian-rasterization) registered for path 'submodules/diff-gaussian-rasterization'\n",
            "Submodule 'submodules/simple-knn' (https://gitlab.inria.fr/bkerbl/simple-knn.git) registered for path 'submodules/simple-knn'\n",
            "Cloning into '/content/gaussian-splatting/SIBR_viewers'...\n",
            "warning: redirecting to https://gitlab.inria.fr/sibr/sibr_core.git/\n",
            "remote: Enumerating objects: 3270, done.        \n",
            "remote: Counting objects: 100% (299/299), done.        \n",
            "remote: Compressing objects: 100% (164/164), done.        \n",
            "remote: Total 3270 (delta 157), reused 259 (delta 135), pack-reused 2971 (from 1)        \n",
            "Receiving objects: 100% (3270/3270), 9.97 MiB | 6.78 MiB/s, done.\n",
            "Resolving deltas: 100% (2025/2025), done.\n",
            "Cloning into '/content/gaussian-splatting/submodules/diff-gaussian-rasterization'...\n",
            "remote: Enumerating objects: 329, done.        \n",
            "remote: Counting objects: 100% (107/107), done.        \n",
            "remote: Compressing objects: 100% (54/54), done.        \n",
            "remote: Total 329 (delta 68), reused 72 (delta 45), pack-reused 222 (from 1)        \n",
            "Receiving objects: 100% (329/329), 127.29 KiB | 7.07 MiB/s, done.\n",
            "Resolving deltas: 100% (207/207), done.\n",
            "Cloning into '/content/gaussian-splatting/submodules/simple-knn'...\n",
            "remote: Enumerating objects: 37, done.        \n",
            "remote: Counting objects: 100% (37/37), done.        \n",
            "remote: Compressing objects: 100% (34/34), done.        \n",
            "remote: Total 37 (delta 18), reused 0 (delta 0), pack-reused 0 (from 0)        \n",
            "Receiving objects: 100% (37/37), 9.41 KiB | 9.41 MiB/s, done.\n",
            "Resolving deltas: 100% (18/18), done.\n",
            "Submodule path 'SIBR_viewers': checked out '14199886ae3f42358092c16ada909c1e0b1cba20'\n",
            "Submodule path 'submodules/diff-gaussian-rasterization': checked out '8064f52ca233942bdec2d1a1451c026deedd320b'\n",
            "Submodule 'third_party/glm' (https://github.com/g-truc/glm.git) registered for path 'submodules/diff-gaussian-rasterization/third_party/glm'\n",
            "Cloning into '/content/gaussian-splatting/submodules/diff-gaussian-rasterization/third_party/glm'...\n",
            "remote: Enumerating objects: 59615, done.        \n",
            "remote: Counting objects: 100% (5/5), done.        \n",
            "remote: Compressing objects: 100% (4/4), done.        \n",
            "remote: Total 59615 (delta 0), reused 3 (delta 0), pack-reused 59610 (from 1)        \n",
            "Receiving objects: 100% (59615/59615), 71.20 MiB | 9.70 MiB/s, done.\n",
            "Resolving deltas: 100% (45209/45209), done.\n",
            "Submodule path 'submodules/diff-gaussian-rasterization/third_party/glm': checked out '5c46b9c07008ae65cb81ab79cd677ecc1934b903'\n",
            "Submodule path 'submodules/simple-knn': checked out '44f764299fa305faf6ec5ebd99939e0508331503'\n",
            "/content/gaussian-splatting\n",
            "  Preparing metadata (setup.py) ... \u001b[?25l\u001b[?25hdone\n",
            "  Building wheel for diff_gaussian_rasterization (setup.py) ... \u001b[?25l\u001b[?25hdone\n",
            "  Preparing metadata (setup.py) ... \u001b[?25l\u001b[?25hdone\n",
            "  Building wheel for simple_knn (setup.py) ... \u001b[?25l\u001b[?25hdone\n"
          ]
        }
      ],
      "source": [
        "%cd /content\n",
        "!git clone --recursive https://github.com/camenduru/gaussian-splatting\n",
        "!pip install -q plyfile\n",
        "\n",
        "%cd /content/gaussian-splatting\n",
        "!pip install -q /content/gaussian-splatting/submodules/diff-gaussian-rasterization\n",
        "!pip install -q /content/gaussian-splatting/submodules/simple-knn\n",
        "\n",
        "# !wget https://huggingface.co/camenduru/gaussian-splatting/resolve/main/GaussianViewTest.zip\n",
        "# !unzip GaussianViewTest.zip\n",
        "# !python render.py -m /content/gaussian-splatting/GaussianViewTest/model\n",
        "# !ffmpeg -framerate 3 -i /content/gaussian-splatting/GaussianViewTest/model/train/ours_30000/renders/%05d.png -vf \"pad=ceil(iw/2)*2:ceil(ih/2)*2\" -c:v libx264 -r 3 -pix_fmt yuv420p /content/renders.mp4\n",
        "# !ffmpeg -framerate 3 -i /content/gaussian-splatting/GaussianViewTest/model/train/ours_30000/gt/%05d.png -vf \"pad=ceil(iw/2)*2:ceil(ih/2)*2\" -c:v libx264 -r 3 -pix_fmt yuv420p /content/gt.mp4 -y"
      ]
    },
    {
      "cell_type": "code",
      "source": [
        "!python train.py -s /content/gaussian-splatting/dataset/dog -m /content/gaussian-splatting/dataset/dog/output\n",
        "\n",
        "# !wget https://huggingface.co/camenduru/gaussian-splatting/resolve/main/GaussianViewTest.zip\n",
        "# !unzip GaussianViewTest.zip\n",
        "# !python render.py -m /content/gaussian-splatting/GaussianViewTest/model\n",
        "# !ffmpeg -framerate 3 -i /content/gaussian-splatting/GaussianViewTest/model/train/ours_30000/renders/%05d.png -vf \"pad=ceil(iw/2)*2:ceil(ih/2)*2\" -c:v libx264 -r 3 -pix_fmt yuv420p /content/renders.mp4\n",
        "# !ffmpeg -framerate 3 -i /content/gaussian-splatting/GaussianViewTest/model/train/ours_30000/gt/%05d.png -vf \"pad=ceil(iw/2)*2:ceil(ih/2)*2\" -c:v libx264 -r 3 -pix_fmt yuv420p /content/gt.mp4 -y"
      ],
      "metadata": {
        "id": "hqRwIl4PqJD8",
        "outputId": "5365d021-7895-4832-8bea-941063899b67",
        "colab": {
          "base_uri": "https://localhost:8080/"
        }
      },
      "execution_count": null,
      "outputs": [
        {
          "output_type": "stream",
          "name": "stdout",
          "text": [
            "2024-11-24 12:49:05.379710: E external/local_xla/xla/stream_executor/cuda/cuda_fft.cc:485] Unable to register cuFFT factory: Attempting to register factory for plugin cuFFT when one has already been registered\n",
            "2024-11-24 12:49:05.399463: E external/local_xla/xla/stream_executor/cuda/cuda_dnn.cc:8454] Unable to register cuDNN factory: Attempting to register factory for plugin cuDNN when one has already been registered\n",
            "2024-11-24 12:49:05.405306: E external/local_xla/xla/stream_executor/cuda/cuda_blas.cc:1452] Unable to register cuBLAS factory: Attempting to register factory for plugin cuBLAS when one has already been registered\n",
            "2024-11-24 12:49:05.420828: I tensorflow/core/platform/cpu_feature_guard.cc:210] This TensorFlow binary is optimized to use available CPU instructions in performance-critical operations.\n",
            "To enable the following instructions: AVX2 AVX512F FMA, in other operations, rebuild TensorFlow with the appropriate compiler flags.\n",
            "2024-11-24 12:49:06.475138: W tensorflow/compiler/tf2tensorrt/utils/py_utils.cc:38] TF-TRT Warning: Could not find TensorRT\n",
            "Optimizing /content/gaussian-splatting/dataset/dog/output\n",
            "Output folder: /content/gaussian-splatting/dataset/dog/output [24/11 12:49:07]\n",
            "Reading camera 72/72 [24/11 12:49:08]\n",
            "Converting point3d.bin to .ply, will happen only the first time you open the scene. [24/11 12:49:08]\n",
            "Loading Training Cameras [24/11 12:49:08]\n",
            "[ INFO ] Encountered quite large input images (>1.6K pixels width), rescaling to 1.6K.\n",
            " If this is not desired, please explicitly specify '--resolution/-r' as 1 [24/11 12:49:08]\n",
            "Loading Test Cameras [24/11 12:49:23]\n",
            "Number of points at initialisation :  44890 [24/11 12:49:23]\n",
            "Training progress:   8% 2550/30000 [04:14<58:38,  7.80it/s, Loss=0.0365966]"
          ]
        }
      ]
    },
    {
      "cell_type": "code",
      "source": [
        "!python train.py -s /content/gaussian-splatting/dataset/cat -m /content/gaussian-splatting/dataset/cat/output\n",
        "\n",
        "# !wget https://huggingface.co/camenduru/gaussian-splatting/resolve/main/GaussianViewTest.zip\n",
        "# !unzip GaussianViewTest.zip\n",
        "# !python render.py -m /content/gaussian-splatting/GaussianViewTest/model\n",
        "# !ffmpeg -framerate 3 -i /content/gaussian-splatting/GaussianViewTest/model/train/ours_30000/renders/%05d.png -vf \"pad=ceil(iw/2)*2:ceil(ih/2)*2\" -c:v libx264 -r 3 -pix_fmt yuv420p /content/renders.mp4\n",
        "# !ffmpeg -framerate 3 -i /content/gaussian-splatting/GaussianViewTest/model/train/ours_30000/gt/%05d.png -vf \"pad=ceil(iw/2)*2:ceil(ih/2)*2\" -c:v libx264 -r 3 -pix_fmt yuv420p /content/gt.mp4 -y"
      ],
      "metadata": {
        "id": "XaNZWqPTr0Fc"
      },
      "execution_count": null,
      "outputs": []
    }
  ],
  "metadata": {
    "accelerator": "GPU",
    "colab": {
      "gpuType": "T4",
      "provenance": [],
      "include_colab_link": true
    },
    "kernelspec": {
      "display_name": "Python 3",
      "name": "python3"
    },
    "language_info": {
      "name": "python"
    }
  },
  "nbformat": 4,
  "nbformat_minor": 0
}